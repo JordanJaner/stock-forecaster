{
 "cells": [
  {
   "cell_type": "markdown",
   "metadata": {
    "id": "MU-0tMzqTClO"
   },
   "source": [
    "### Research Questions\n",
    "What is the question?\n",
    "Are the major stocks the best investments?\n",
    "What are the best to buy for next year (more current data but a ton of stocks)\n",
    "What are the safest types of stocks to buy by stock type (historical data but only a few specific stocks)\n",
    "\n",
    "Predicting what stocks would do well\n",
    "\n",
    "function that adds new entries to the database\n",
    " based on new entries, machine learning model is further trained\n",
    " tells us what stocks to buy\n"
   ]
  },
  {
   "cell_type": "code",
   "execution_count": 2,
   "metadata": {
    "id": "t7ke-a1fTClS"
   },
   "outputs": [
    {
     "name": "stdout",
     "output_type": "stream",
     "text": [
      "Requirement already satisfied: yahoo_fin in c:\\users\\farim\\anaconda3\\envs\\pythondata\\lib\\site-packages (0.8.9.1)\n",
      "Requirement already satisfied: feedparser in c:\\users\\farim\\anaconda3\\envs\\pythondata\\lib\\site-packages (from yahoo_fin) (6.0.8)\n",
      "Requirement already satisfied: requests in c:\\users\\farim\\anaconda3\\envs\\pythondata\\lib\\site-packages (from yahoo_fin) (2.26.0)\n",
      "Requirement already satisfied: requests-html in c:\\users\\farim\\anaconda3\\envs\\pythondata\\lib\\site-packages (from yahoo_fin) (0.10.0)\n",
      "Requirement already satisfied: pandas in c:\\users\\farim\\anaconda3\\envs\\pythondata\\lib\\site-packages (from yahoo_fin) (1.0.5)\n",
      "Requirement already satisfied: sgmllib3k in c:\\users\\farim\\anaconda3\\envs\\pythondata\\lib\\site-packages (from feedparser->yahoo_fin) (1.0.0)\n",
      "Requirement already satisfied: certifi>=2017.4.17 in c:\\users\\farim\\anaconda3\\envs\\pythondata\\lib\\site-packages (from requests->yahoo_fin) (2020.6.20)\n",
      "Requirement already satisfied: charset-normalizer~=2.0.0; python_version >= \"3\" in c:\\users\\farim\\anaconda3\\envs\\pythondata\\lib\\site-packages (from requests->yahoo_fin) (2.0.7)\n",
      "Requirement already satisfied: urllib3<1.27,>=1.21.1 in c:\\users\\farim\\anaconda3\\envs\\pythondata\\lib\\site-packages (from requests->yahoo_fin) (1.26.7)\n",
      "Requirement already satisfied: idna<4,>=2.5; python_version >= \"3\" in c:\\users\\farim\\anaconda3\\envs\\pythondata\\lib\\site-packages (from requests->yahoo_fin) (3.3)\n",
      "Requirement already satisfied: parse in c:\\users\\farim\\anaconda3\\envs\\pythondata\\lib\\site-packages (from requests-html->yahoo_fin) (1.19.0)\n",
      "Requirement already satisfied: pyppeteer>=0.0.14 in c:\\users\\farim\\anaconda3\\envs\\pythondata\\lib\\site-packages (from requests-html->yahoo_fin) (0.2.6)\n",
      "Requirement already satisfied: w3lib in c:\\users\\farim\\anaconda3\\envs\\pythondata\\lib\\site-packages (from requests-html->yahoo_fin) (1.22.0)\n",
      "Requirement already satisfied: fake-useragent in c:\\users\\farim\\anaconda3\\envs\\pythondata\\lib\\site-packages (from requests-html->yahoo_fin) (0.1.11)\n",
      "Requirement already satisfied: pyquery in c:\\users\\farim\\anaconda3\\envs\\pythondata\\lib\\site-packages (from requests-html->yahoo_fin) (1.4.3)\n",
      "Requirement already satisfied: bs4 in c:\\users\\farim\\anaconda3\\envs\\pythondata\\lib\\site-packages (from requests-html->yahoo_fin) (0.0.1)\n",
      "Requirement already satisfied: numpy>=1.13.3 in c:\\users\\farim\\anaconda3\\envs\\pythondata\\lib\\site-packages (from pandas->yahoo_fin) (1.18.5)\n",
      "Requirement already satisfied: pytz>=2017.2 in c:\\users\\farim\\anaconda3\\envs\\pythondata\\lib\\site-packages (from pandas->yahoo_fin) (2020.1)\n",
      "Requirement already satisfied: python-dateutil>=2.6.1 in c:\\users\\farim\\anaconda3\\envs\\pythondata\\lib\\site-packages (from pandas->yahoo_fin) (2.8.1)\n",
      "Requirement already satisfied: importlib-metadata>=1.4 in c:\\users\\farim\\anaconda3\\envs\\pythondata\\lib\\site-packages (from pyppeteer>=0.0.14->requests-html->yahoo_fin) (2.0.0)\n",
      "Requirement already satisfied: pyee<9.0.0,>=8.1.0 in c:\\users\\farim\\anaconda3\\envs\\pythondata\\lib\\site-packages (from pyppeteer>=0.0.14->requests-html->yahoo_fin) (8.2.2)\n",
      "Requirement already satisfied: tqdm<5.0.0,>=4.42.1 in c:\\users\\farim\\anaconda3\\envs\\pythondata\\lib\\site-packages (from pyppeteer>=0.0.14->requests-html->yahoo_fin) (4.64.0)\n",
      "Requirement already satisfied: websockets<10.0,>=9.1 in c:\\users\\farim\\anaconda3\\envs\\pythondata\\lib\\site-packages (from pyppeteer>=0.0.14->requests-html->yahoo_fin) (9.1)\n",
      "Requirement already satisfied: appdirs<2.0.0,>=1.4.3 in c:\\users\\farim\\anaconda3\\envs\\pythondata\\lib\\site-packages (from pyppeteer>=0.0.14->requests-html->yahoo_fin) (1.4.4)\n",
      "Requirement already satisfied: six>=1.4.1 in c:\\users\\farim\\anaconda3\\envs\\pythondata\\lib\\site-packages (from w3lib->requests-html->yahoo_fin) (1.15.0)\n",
      "Requirement already satisfied: cssselect>0.7.9 in c:\\users\\farim\\anaconda3\\envs\\pythondata\\lib\\site-packages (from pyquery->requests-html->yahoo_fin) (1.1.0)\n",
      "Requirement already satisfied: lxml>=2.1 in c:\\users\\farim\\anaconda3\\envs\\pythondata\\lib\\site-packages (from pyquery->requests-html->yahoo_fin) (4.7.1)\n",
      "Requirement already satisfied: beautifulsoup4 in c:\\users\\farim\\anaconda3\\envs\\pythondata\\lib\\site-packages (from bs4->requests-html->yahoo_fin) (4.10.0)\n",
      "Requirement already satisfied: zipp>=0.5 in c:\\users\\farim\\anaconda3\\envs\\pythondata\\lib\\site-packages (from importlib-metadata>=1.4->pyppeteer>=0.0.14->requests-html->yahoo_fin) (3.3.1)\n",
      "Requirement already satisfied: colorama; platform_system == \"Windows\" in c:\\users\\farim\\anaconda3\\envs\\pythondata\\lib\\site-packages (from tqdm<5.0.0,>=4.42.1->pyppeteer>=0.0.14->requests-html->yahoo_fin) (0.4.4)\n",
      "Requirement already satisfied: importlib-resources; python_version < \"3.7\" in c:\\users\\farim\\anaconda3\\envs\\pythondata\\lib\\site-packages (from tqdm<5.0.0,>=4.42.1->pyppeteer>=0.0.14->requests-html->yahoo_fin) (5.4.0)\n",
      "Requirement already satisfied: soupsieve>1.2 in c:\\users\\farim\\anaconda3\\envs\\pythondata\\lib\\site-packages (from beautifulsoup4->bs4->requests-html->yahoo_fin) (2.3.1)\n",
      "Requirement already satisfied: yfinance in c:\\users\\farim\\anaconda3\\envs\\pythondata\\lib\\site-packages (0.1.70)\n",
      "Requirement already satisfied: multitasking>=0.0.7 in c:\\users\\farim\\anaconda3\\envs\\pythondata\\lib\\site-packages (from yfinance) (0.0.10)\n",
      "Requirement already satisfied: requests>=2.26 in c:\\users\\farim\\anaconda3\\envs\\pythondata\\lib\\site-packages (from yfinance) (2.26.0)\n",
      "Requirement already satisfied: pandas>=0.24.0 in c:\\users\\farim\\anaconda3\\envs\\pythondata\\lib\\site-packages (from yfinance) (1.0.5)\n",
      "Requirement already satisfied: numpy>=1.15 in c:\\users\\farim\\anaconda3\\envs\\pythondata\\lib\\site-packages (from yfinance) (1.18.5)\n",
      "Requirement already satisfied: lxml>=4.5.1 in c:\\users\\farim\\anaconda3\\envs\\pythondata\\lib\\site-packages (from yfinance) (4.7.1)\n",
      "Requirement already satisfied: certifi>=2017.4.17 in c:\\users\\farim\\anaconda3\\envs\\pythondata\\lib\\site-packages (from requests>=2.26->yfinance) (2020.6.20)\n",
      "Requirement already satisfied: charset-normalizer~=2.0.0; python_version >= \"3\" in c:\\users\\farim\\anaconda3\\envs\\pythondata\\lib\\site-packages (from requests>=2.26->yfinance) (2.0.7)\n",
      "Requirement already satisfied: urllib3<1.27,>=1.21.1 in c:\\users\\farim\\anaconda3\\envs\\pythondata\\lib\\site-packages (from requests>=2.26->yfinance) (1.26.7)\n",
      "Requirement already satisfied: idna<4,>=2.5; python_version >= \"3\" in c:\\users\\farim\\anaconda3\\envs\\pythondata\\lib\\site-packages (from requests>=2.26->yfinance) (3.3)\n",
      "Requirement already satisfied: python-dateutil>=2.6.1 in c:\\users\\farim\\anaconda3\\envs\\pythondata\\lib\\site-packages (from pandas>=0.24.0->yfinance) (2.8.1)\n",
      "Requirement already satisfied: pytz>=2017.2 in c:\\users\\farim\\anaconda3\\envs\\pythondata\\lib\\site-packages (from pandas>=0.24.0->yfinance) (2020.1)\n",
      "Requirement already satisfied: six>=1.5 in c:\\users\\farim\\anaconda3\\envs\\pythondata\\lib\\site-packages (from python-dateutil>=2.6.1->pandas>=0.24.0->yfinance) (1.15.0)\n",
      "Requirement already satisfied: yahoofinancials in c:\\users\\farim\\anaconda3\\envs\\pythondata\\lib\\site-packages (1.6)\n",
      "Requirement already satisfied: beautifulsoup4 in c:\\users\\farim\\anaconda3\\envs\\pythondata\\lib\\site-packages (from yahoofinancials) (4.10.0)\n",
      "Requirement already satisfied: pytz in c:\\users\\farim\\anaconda3\\envs\\pythondata\\lib\\site-packages (from yahoofinancials) (2020.1)\n",
      "Requirement already satisfied: soupsieve>1.2 in c:\\users\\farim\\anaconda3\\envs\\pythondata\\lib\\site-packages (from beautifulsoup4->yahoofinancials) (2.3.1)\n"
     ]
    }
   ],
   "source": [
    "# pip install yahoo_fin\n",
    "# pip install yfinance\n",
    "# pip install yahoofinancials\n",
    "# pip install sqlalchemy\n",
    "# pip install psycopg2\n",
    "# pip install cufflinks"
   ]
  },
  {
   "cell_type": "code",
   "execution_count": 6,
   "metadata": {
    "colab": {
     "base_uri": "https://localhost:8080/",
     "height": 106
    },
    "id": "us1ZepzoTClT",
    "outputId": "1bd32bed-9faf-45f8-9409-cc3612c6fb56"
   },
   "outputs": [],
   "source": [
    "import pandas as pd\n",
    "import numpy as np\n",
    "\n",
    "# import yahoo finance dependencies\n",
    "import yahoo_fin.stock_info as si\n",
    "import yfinance as yf\n",
    "from yahoofinancials import YahooFinancials\n",
    "from plotly.offline import plot, init_notebook_mode\n",
    "init_notebook_mode()\n",
    "import cufflinks as cf\n",
    "cf.set_config_file(offline=True)\n",
    "\n",
    "# sql dependencies\n",
    "from sqlalchemy import create_engine, inspect\n",
    "from sqlalchemy.ext.automap import automap_base\n",
    "from sqlalchemy.orm import Session\n",
    "from sqlalchemy.ext.declarative import declarative_base\n",
    "Base = declarative_base()\n",
    "from sqlalchemy import Column, Integer, String, Float\n",
    "\n",
    "# import psycopg2\n",
    "# import psycopg2.extras as extras"
   ]
  },
  {
   "cell_type": "markdown",
   "metadata": {},
   "source": [
    "Import Dow, NASDAQ, and S&P500"
   ]
  },
  {
   "cell_type": "code",
   "execution_count": 9,
   "metadata": {
    "id": "Fej0OSpgfRDT"
   },
   "outputs": [],
   "source": [
    "dow = si.tickers_dow()\n",
    "sp500 = si.tickers_sp500()\n",
    "nasdaq = si.tickers_nasdaq()"
   ]
  },
  {
   "cell_type": "markdown",
   "metadata": {},
   "source": [
    "Save and load stock data to empty dataFrame"
   ]
  },
  {
   "cell_type": "code",
   "execution_count": 29,
   "metadata": {},
   "outputs": [
    {
     "data": {
      "text/html": [
       "<div>\n",
       "<style scoped>\n",
       "    .dataframe tbody tr th:only-of-type {\n",
       "        vertical-align: middle;\n",
       "    }\n",
       "\n",
       "    .dataframe tbody tr th {\n",
       "        vertical-align: top;\n",
       "    }\n",
       "\n",
       "    .dataframe thead th {\n",
       "        text-align: right;\n",
       "    }\n",
       "</style>\n",
       "<table border=\"1\" class=\"dataframe\">\n",
       "  <thead>\n",
       "    <tr style=\"text-align: right;\">\n",
       "      <th></th>\n",
       "      <th>Open</th>\n",
       "      <th>High</th>\n",
       "      <th>Low</th>\n",
       "      <th>Close</th>\n",
       "      <th>Adj Close</th>\n",
       "      <th>Volume</th>\n",
       "      <th>Ticker</th>\n",
       "    </tr>\n",
       "    <tr>\n",
       "      <th>Date</th>\n",
       "      <th></th>\n",
       "      <th></th>\n",
       "      <th></th>\n",
       "      <th></th>\n",
       "      <th></th>\n",
       "      <th></th>\n",
       "      <th></th>\n",
       "    </tr>\n",
       "  </thead>\n",
       "  <tbody>\n",
       "    <tr>\n",
       "      <th>2010-01-04</th>\n",
       "      <td>7.622500</td>\n",
       "      <td>7.660714</td>\n",
       "      <td>7.585000</td>\n",
       "      <td>7.643214</td>\n",
       "      <td>6.544689</td>\n",
       "      <td>493729600</td>\n",
       "      <td>AAPL</td>\n",
       "    </tr>\n",
       "    <tr>\n",
       "      <th>2010-01-05</th>\n",
       "      <td>7.664286</td>\n",
       "      <td>7.699643</td>\n",
       "      <td>7.616071</td>\n",
       "      <td>7.656429</td>\n",
       "      <td>6.556004</td>\n",
       "      <td>601904800</td>\n",
       "      <td>AAPL</td>\n",
       "    </tr>\n",
       "    <tr>\n",
       "      <th>2010-01-06</th>\n",
       "      <td>7.656429</td>\n",
       "      <td>7.686786</td>\n",
       "      <td>7.526786</td>\n",
       "      <td>7.534643</td>\n",
       "      <td>6.451721</td>\n",
       "      <td>552160000</td>\n",
       "      <td>AAPL</td>\n",
       "    </tr>\n",
       "    <tr>\n",
       "      <th>2010-01-07</th>\n",
       "      <td>7.562500</td>\n",
       "      <td>7.571429</td>\n",
       "      <td>7.466071</td>\n",
       "      <td>7.520714</td>\n",
       "      <td>6.439795</td>\n",
       "      <td>477131200</td>\n",
       "      <td>AAPL</td>\n",
       "    </tr>\n",
       "    <tr>\n",
       "      <th>2010-01-08</th>\n",
       "      <td>7.510714</td>\n",
       "      <td>7.571429</td>\n",
       "      <td>7.466429</td>\n",
       "      <td>7.570714</td>\n",
       "      <td>6.482607</td>\n",
       "      <td>447610800</td>\n",
       "      <td>AAPL</td>\n",
       "    </tr>\n",
       "    <tr>\n",
       "      <th>...</th>\n",
       "      <td>...</td>\n",
       "      <td>...</td>\n",
       "      <td>...</td>\n",
       "      <td>...</td>\n",
       "      <td>...</td>\n",
       "      <td>...</td>\n",
       "      <td>...</td>\n",
       "    </tr>\n",
       "    <tr>\n",
       "      <th>2022-03-25</th>\n",
       "      <td>143.449997</td>\n",
       "      <td>143.929993</td>\n",
       "      <td>142.259995</td>\n",
       "      <td>143.449997</td>\n",
       "      <td>143.449997</td>\n",
       "      <td>4695100</td>\n",
       "      <td>WMT</td>\n",
       "    </tr>\n",
       "    <tr>\n",
       "      <th>2022-03-28</th>\n",
       "      <td>143.500000</td>\n",
       "      <td>146.059998</td>\n",
       "      <td>143.300003</td>\n",
       "      <td>146.000000</td>\n",
       "      <td>146.000000</td>\n",
       "      <td>6701900</td>\n",
       "      <td>WMT</td>\n",
       "    </tr>\n",
       "    <tr>\n",
       "      <th>2022-03-29</th>\n",
       "      <td>146.600006</td>\n",
       "      <td>148.100006</td>\n",
       "      <td>146.250000</td>\n",
       "      <td>147.229996</td>\n",
       "      <td>147.229996</td>\n",
       "      <td>6644800</td>\n",
       "      <td>WMT</td>\n",
       "    </tr>\n",
       "    <tr>\n",
       "      <th>2022-03-30</th>\n",
       "      <td>147.130005</td>\n",
       "      <td>150.179993</td>\n",
       "      <td>147.039993</td>\n",
       "      <td>149.869995</td>\n",
       "      <td>149.869995</td>\n",
       "      <td>8330500</td>\n",
       "      <td>WMT</td>\n",
       "    </tr>\n",
       "    <tr>\n",
       "      <th>2022-03-31</th>\n",
       "      <td>148.789993</td>\n",
       "      <td>150.539993</td>\n",
       "      <td>148.179993</td>\n",
       "      <td>148.919998</td>\n",
       "      <td>148.919998</td>\n",
       "      <td>9054600</td>\n",
       "      <td>WMT</td>\n",
       "    </tr>\n",
       "  </tbody>\n",
       "</table>\n",
       "<p>90173 rows × 7 columns</p>\n",
       "</div>"
      ],
      "text/plain": [
       "                  Open        High         Low       Close   Adj Close  \\\n",
       "Date                                                                     \n",
       "2010-01-04    7.622500    7.660714    7.585000    7.643214    6.544689   \n",
       "2010-01-05    7.664286    7.699643    7.616071    7.656429    6.556004   \n",
       "2010-01-06    7.656429    7.686786    7.526786    7.534643    6.451721   \n",
       "2010-01-07    7.562500    7.571429    7.466071    7.520714    6.439795   \n",
       "2010-01-08    7.510714    7.571429    7.466429    7.570714    6.482607   \n",
       "...                ...         ...         ...         ...         ...   \n",
       "2022-03-25  143.449997  143.929993  142.259995  143.449997  143.449997   \n",
       "2022-03-28  143.500000  146.059998  143.300003  146.000000  146.000000   \n",
       "2022-03-29  146.600006  148.100006  146.250000  147.229996  147.229996   \n",
       "2022-03-30  147.130005  150.179993  147.039993  149.869995  149.869995   \n",
       "2022-03-31  148.789993  150.539993  148.179993  148.919998  148.919998   \n",
       "\n",
       "               Volume Ticker  \n",
       "Date                          \n",
       "2010-01-04  493729600   AAPL  \n",
       "2010-01-05  601904800   AAPL  \n",
       "2010-01-06  552160000   AAPL  \n",
       "2010-01-07  477131200   AAPL  \n",
       "2010-01-08  447610800   AAPL  \n",
       "...               ...    ...  \n",
       "2022-03-25    4695100    WMT  \n",
       "2022-03-28    6701900    WMT  \n",
       "2022-03-29    6644800    WMT  \n",
       "2022-03-30    8330500    WMT  \n",
       "2022-03-31    9054600    WMT  \n",
       "\n",
       "[90173 rows x 7 columns]"
      ]
     },
     "execution_count": 29,
     "metadata": {},
     "output_type": "execute_result"
    }
   ],
   "source": [
    "dow_df = pd.DataFrame()\n",
    "for ticker in dow:\n",
    "    dow_dl = yf.download(ticker, start='2012-01-01', \n",
    "                      end='2022-04-10', progress=False)\n",
    "    dow_dl['Ticker'] = ticker\n",
    "\n",
    "\n",
    "    dow_df = dow_df.append(dow_dl)\n",
    "\n",
    "# dow_df.head()\n"
   ]
  },
  {
   "cell_type": "code",
   "execution_count": null,
   "metadata": {
    "id": "G52Nj5zxTClX"
   },
   "outputs": [],
   "source": [
    "sp500_df = pd.DataFrame()\n",
    "for ticker in sp500:\n",
    "    sp500_dl = yf.download(ticker, start='2012-01-01', \n",
    "                      end='2022-04-10', progress=False)\n",
    "    sp500_dl['Ticker'] = ticker\n",
    "\n",
    "\n",
    "    sp500_df = sp500_df.append(sp500_dl)\n",
    "\n",
    "# sp500_df.head()\n"
   ]
  },
  {
   "cell_type": "code",
   "execution_count": null,
   "metadata": {
    "id": "5B0ytGo0TClY"
   },
   "outputs": [],
   "source": [
    "nasdaq_df = pd.DataFrame()\n",
    "for ticker in nasdaq:\n",
    "    nasdaq_dl = yf.download(ticker, start='2012-01-01', \n",
    "                      end='2022-04-10', progress=False)\n",
    "    nasdaq_dl['Ticker'] = ticker\n",
    "\n",
    "\n",
    "    nasdaq_df = nasdaq_df.append(nasdaq_dl)\n",
    "\n",
    "# nasdaq_df.head()\n"
   ]
  },
  {
   "cell_type": "markdown",
   "metadata": {},
   "source": [
    "Create CSV Files"
   ]
  },
  {
   "cell_type": "code",
   "execution_count": 30,
   "metadata": {},
   "outputs": [],
   "source": [
    "dow_df.to_csv('dataframe_dow.csv', index =True)"
   ]
  },
  {
   "cell_type": "code",
   "execution_count": null,
   "metadata": {},
   "outputs": [],
   "source": [
    "sp500_df.to_csv('dataframe_sp500.csv', index =True)"
   ]
  },
  {
   "cell_type": "code",
   "execution_count": null,
   "metadata": {},
   "outputs": [],
   "source": [
    "nasdaq_df.to_csv('dataframe_nasdaq.csv', index =True)"
   ]
  },
  {
   "cell_type": "markdown",
   "metadata": {},
   "source": [
    "Put CSV Data into PostgreSQL database in pg Admin 4"
   ]
  },
  {
   "cell_type": "markdown",
   "metadata": {},
   "source": [
    "Connect database back to jupyter notebook"
   ]
  },
  {
   "cell_type": "code",
   "execution_count": null,
   "metadata": {},
   "outputs": [],
   "source": [
    "connection_str = \"postgres:password@localhost:5432/RealTimeStock\"\n",
    "engine = create_engine(f\"postgresql://{connection_str}\")"
   ]
  },
  {
   "cell_type": "code",
   "execution_count": null,
   "metadata": {},
   "outputs": [],
   "source": [
    "engine.table_names()"
   ]
  },
  {
   "cell_type": "markdown",
   "metadata": {},
   "source": [
    "Create table in pgAdmin that data can be inserted into"
   ]
  },
  {
   "cell_type": "code",
   "execution_count": null,
   "metadata": {},
   "outputs": [],
   "source": [
    "class Stock(Base):\n",
    "    __tablename__ = 'RealTimeStock'\n",
    "    id = Column(Integer, primary_key=True)\n",
    "    date = Column(Float(25)) \n",
    "    open = Column(Float(25)) \n",
    "    high = Column(Float(25)) \n",
    "    low = Column(Float(25)) \n",
    "    close = Column(Float(25)) \n",
    "    adjclose = Column(Float(25)) \n",
    "    volume = Column(Float(25)) \n",
    "    ticker = Column(String(25))"
   ]
  }
 ],
 "metadata": {
  "colab": {
   "collapsed_sections": [],
   "name": "RealTimeStock.ipynb",
   "provenance": []
  },
  "kernelspec": {
   "display_name": "Python [conda env:PythonData] *",
   "language": "python",
   "name": "conda-env-PythonData-py"
  },
  "language_info": {
   "codemirror_mode": {
    "name": "ipython",
    "version": 3
   },
   "file_extension": ".py",
   "mimetype": "text/x-python",
   "name": "python",
   "nbconvert_exporter": "python",
   "pygments_lexer": "ipython3",
   "version": "3.6.10"
  }
 },
 "nbformat": 4,
 "nbformat_minor": 2
}
